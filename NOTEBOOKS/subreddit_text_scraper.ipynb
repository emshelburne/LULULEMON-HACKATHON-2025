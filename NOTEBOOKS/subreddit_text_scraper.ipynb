{
 "cells": [
  {
   "cell_type": "markdown",
   "id": "6e6829ac-2feb-441f-9823-fc3fbf0a1c7f",
   "metadata": {},
   "source": [
    "# Text Scraping Lululemon's Subreddit"
   ]
  },
  {
   "cell_type": "markdown",
   "id": "1f45f844-7678-47d9-81c9-492d8571f422",
   "metadata": {},
   "source": [
    "## Preliminaries"
   ]
  },
  {
   "cell_type": "code",
   "execution_count": 28,
   "id": "9ac48e06-1b3a-4dd8-ba25-f8cc9daee548",
   "metadata": {},
   "outputs": [],
   "source": [
    "# Imports\n",
    "\n",
    "from dotenv import load_dotenv\n",
    "import os\n",
    "import praw\n",
    "import matplotlib as plt\n",
    "import re, pandas as pd\n",
    "import numpy as np\n",
    "import time\n",
    "from datetime import datetime, timezone"
   ]
  },
  {
   "cell_type": "code",
   "execution_count": 4,
   "id": "39aa2f77-876f-44aa-b80a-a2eddade659e",
   "metadata": {},
   "outputs": [
    {
     "data": {
      "text/plain": [
       "True"
      ]
     },
     "execution_count": 4,
     "metadata": {},
     "output_type": "execute_result"
    }
   ],
   "source": [
    "# Reads .env file into current directory\n",
    "\n",
    "load_dotenv()"
   ]
  },
  {
   "cell_type": "code",
   "execution_count": 7,
   "id": "ce1dc4ed-9062-42ce-ba1e-395779a85de3",
   "metadata": {},
   "outputs": [],
   "source": [
    "# Extract reddit credentials from .env file\n",
    "\n",
    "reddit = praw.Reddit(client_id=os.getenv(\"REDDIT_CLIENT_ID\"),\n",
    "    client_secret=os.getenv(\"REDDIT_CLIENT_SECRET\"),\n",
    "    username=os.getenv(\"REDDIT_USERNAME\"),\n",
    "    password=os.getenv(\"REDDIT_PASSWORD\"),\n",
    "    user_agent=os.getenv(\"REDDIT_USER_AGENT\"),\n",
    ")"
   ]
  },
  {
   "cell_type": "code",
   "execution_count": 11,
   "id": "de1bba7d-ce13-4575-b5b8-54b08ef4856c",
   "metadata": {},
   "outputs": [],
   "source": [
    "# Fix subreddit as lululemon\n",
    "\n",
    "sub = reddit.subreddit(\"lululemon\")"
   ]
  },
  {
   "cell_type": "markdown",
   "id": "93e7c212-fa67-40e1-872f-bfd63fe1382a",
   "metadata": {},
   "source": [
    "## Helper functions "
   ]
  },
  {
   "cell_type": "code",
   "execution_count": 14,
   "id": "9a7ec57d-8299-43dd-9343-252d47d0bae0",
   "metadata": {
    "jupyter": {
     "source_hidden": true
    }
   },
   "outputs": [],
   "source": [
    "# Function to clean text\n",
    "\n",
    "def clean_text(s: str | None) -> str | None:\n",
    "    \n",
    "    '''\n",
    "    Clean string by substituting spaces for problematic characters\n",
    "    '''\n",
    "    \n",
    "    if s is None:\n",
    "        return None\n",
    "    s = re.sub(r\"\\s+\", \" \", s).strip()\n",
    "    return s"
   ]
  },
  {
   "cell_type": "code",
   "execution_count": 16,
   "id": "2f1f42ea-3989-4c86-b396-f9d0435ea174",
   "metadata": {
    "jupyter": {
     "source_hidden": true
    }
   },
   "outputs": [],
   "source": [
    "# Function to get datetime from UTC timestamp\n",
    "\n",
    "def dt_from_utc(ts: float) -> pd.Timestamp:\n",
    "\n",
    "    '''\n",
    "    Returns pd.datetime object (still in UTC)\n",
    "    '''\n",
    "    \n",
    "    return pd.to_datetime(ts, unit=\"s\", utc=True)"
   ]
  },
  {
   "cell_type": "markdown",
   "id": "864366ec-8c73-459e-a127-250ff8fb6bcc",
   "metadata": {},
   "source": [
    "## Test Reddit Access"
   ]
  },
  {
   "cell_type": "code",
   "execution_count": 8,
   "id": "48f23269-c897-4e46-9a7a-9476fd450a4f",
   "metadata": {},
   "outputs": [
    {
     "name": "stdout",
     "output_type": "stream",
     "text": [
      "Authenticated as: lulu_data_collector\n"
     ]
    }
   ],
   "source": [
    "# Test fetching my own username\n",
    "\n",
    "me = reddit.user.me()\n",
    "print(\"Authenticated as:\", me)"
   ]
  },
  {
   "cell_type": "code",
   "execution_count": 24,
   "id": "62dbf052-1ca8-4036-9b98-daa6eba7250d",
   "metadata": {
    "collapsed": true,
    "jupyter": {
     "outputs_hidden": true,
     "source_hidden": true
    }
   },
   "outputs": [
    {
     "name": "stdout",
     "output_type": "stream",
     "text": [
      "(30, 12)\n"
     ]
    },
    {
     "data": {
      "text/html": [
       "<div>\n",
       "<style scoped>\n",
       "    .dataframe tbody tr th:only-of-type {\n",
       "        vertical-align: middle;\n",
       "    }\n",
       "\n",
       "    .dataframe tbody tr th {\n",
       "        vertical-align: top;\n",
       "    }\n",
       "\n",
       "    .dataframe thead th {\n",
       "        text-align: right;\n",
       "    }\n",
       "</style>\n",
       "<table border=\"1\" class=\"dataframe\">\n",
       "  <thead>\n",
       "    <tr style=\"text-align: right;\">\n",
       "      <th></th>\n",
       "      <th>post_id</th>\n",
       "      <th>timestamp</th>\n",
       "      <th>author</th>\n",
       "      <th>title</th>\n",
       "      <th>text</th>\n",
       "      <th>score</th>\n",
       "      <th>num_comments</th>\n",
       "      <th>link_flair_text</th>\n",
       "      <th>permalink</th>\n",
       "      <th>stickied</th>\n",
       "      <th>locked</th>\n",
       "      <th>upvote_ratio</th>\n",
       "    </tr>\n",
       "  </thead>\n",
       "  <tbody>\n",
       "    <tr>\n",
       "      <th>0</th>\n",
       "      <td>1n72lwa</td>\n",
       "      <td>2025-09-03 02:09:03+00:00</td>\n",
       "      <td>CooperDoo422</td>\n",
       "      <td>Mystic 🔮☪️💜</td>\n",
       "      <td>I ordered the Mystic Aligns from WMTM last wee...</td>\n",
       "      <td>33</td>\n",
       "      <td>4</td>\n",
       "      <td>Fit Pics</td>\n",
       "      <td>https://www.reddit.com/r/lululemon/comments/1n...</td>\n",
       "      <td>False</td>\n",
       "      <td>False</td>\n",
       "      <td>0.95</td>\n",
       "    </tr>\n",
       "    <tr>\n",
       "      <th>1</th>\n",
       "      <td>1n70wil</td>\n",
       "      <td>2025-09-03 00:49:54+00:00</td>\n",
       "      <td>painthrowaway852</td>\n",
       "      <td>Autumn Rust combos</td>\n",
       "      <td>Java, Black, Ivory, and Espresso - love the wa...</td>\n",
       "      <td>100</td>\n",
       "      <td>13</td>\n",
       "      <td>Fit Pics</td>\n",
       "      <td>https://www.reddit.com/r/lululemon/comments/1n...</td>\n",
       "      <td>False</td>\n",
       "      <td>False</td>\n",
       "      <td>0.96</td>\n",
       "    </tr>\n",
       "    <tr>\n",
       "      <th>2</th>\n",
       "      <td>1n70bqt</td>\n",
       "      <td>2025-09-03 00:23:19+00:00</td>\n",
       "      <td>PleaseNoCilantro</td>\n",
       "      <td>Purple or Green</td>\n",
       "      <td>Stuck with a tough choice between purple pacin...</td>\n",
       "      <td>2</td>\n",
       "      <td>8</td>\n",
       "      <td>Styling Advice</td>\n",
       "      <td>https://www.reddit.com/r/lululemon/comments/1n...</td>\n",
       "      <td>False</td>\n",
       "      <td>False</td>\n",
       "      <td>0.60</td>\n",
       "    </tr>\n",
       "  </tbody>\n",
       "</table>\n",
       "</div>"
      ],
      "text/plain": [
       "   post_id                 timestamp            author               title  \\\n",
       "0  1n72lwa 2025-09-03 02:09:03+00:00      CooperDoo422         Mystic 🔮☪️💜   \n",
       "1  1n70wil 2025-09-03 00:49:54+00:00  painthrowaway852  Autumn Rust combos   \n",
       "2  1n70bqt 2025-09-03 00:23:19+00:00  PleaseNoCilantro     Purple or Green   \n",
       "\n",
       "                                                text  score  num_comments  \\\n",
       "0  I ordered the Mystic Aligns from WMTM last wee...     33             4   \n",
       "1  Java, Black, Ivory, and Espresso - love the wa...    100            13   \n",
       "2  Stuck with a tough choice between purple pacin...      2             8   \n",
       "\n",
       "  link_flair_text                                          permalink  \\\n",
       "0        Fit Pics  https://www.reddit.com/r/lululemon/comments/1n...   \n",
       "1        Fit Pics  https://www.reddit.com/r/lululemon/comments/1n...   \n",
       "2  Styling Advice  https://www.reddit.com/r/lululemon/comments/1n...   \n",
       "\n",
       "   stickied  locked  upvote_ratio  \n",
       "0     False   False          0.95  \n",
       "1     False   False          0.96  \n",
       "2     False   False          0.60  "
      ]
     },
     "execution_count": 24,
     "metadata": {},
     "output_type": "execute_result"
    }
   ],
   "source": [
    "# Try collecting 30 most recent posts\n",
    "\n",
    "rows = []\n",
    "for i, post in enumerate(sub.new(limit=30)):   # 30 most-recent\n",
    "    rows.append({\n",
    "        \"post_id\": post.id,\n",
    "        \"timestamp\": dt_from_utc(post.created_utc),\n",
    "        \"author\": str(post.author) if post.author else None,\n",
    "        \"title\": clean_text(post.title),\n",
    "        \"text\": clean_text(post.selftext) if getattr(post, \"selftext\", None) else None,\n",
    "        \"score\": post.score,\n",
    "        \"num_comments\": post.num_comments,\n",
    "        \"link_flair_text\": getattr(post, \"link_flair_text\", None),\n",
    "        \"permalink\": f\"https://www.reddit.com{post.permalink}\",\n",
    "        \"stickied\": post.stickied,\n",
    "        \"locked\": post.locked,\n",
    "        \"upvote_ratio\": getattr(post, \"upvote_ratio\", None),\n",
    "    })\n",
    "\n",
    "posts_df = pd.DataFrame(rows)\n",
    "print(posts_df.shape)\n",
    "posts_df.head(3)"
   ]
  },
  {
   "cell_type": "markdown",
   "id": "0f69a79f-66f0-47ad-b0c0-ebc3349dd8a6",
   "metadata": {},
   "source": [
    "## Collect Post Data"
   ]
  },
  {
   "cell_type": "code",
   "execution_count": 32,
   "id": "747c034e-f8ad-4fde-a7b6-47020784f706",
   "metadata": {
    "jupyter": {
     "source_hidden": true
    }
   },
   "outputs": [],
   "source": [
    "# Define function to fetch\n",
    "\n",
    "def fetch_posts(subreddit_name=sub, limit=500):\n",
    "\n",
    "    \"\"\"\n",
    "    Define function to fetch most recent posts from subreddit\n",
    "    \"\"\"\n",
    "\n",
    "    start = time.time()\n",
    "    \n",
    "    rows = []\n",
    "    \n",
    "    # figure out checkpoint step size (10% increments)\n",
    "    checkpoint = max(1, limit // 10)\n",
    "\n",
    "    for i, post in enumerate(sub.new(limit=limit), start=1):\n",
    "        rows.append({\n",
    "            \"post_id\": post.id,\n",
    "            \"timestamp\": dt_from_utc(post.created_utc),\n",
    "            \"author\": str(post.author) if post.author else None,\n",
    "            \"title\": clean_text(post.title),\n",
    "            \"text\": clean_text(getattr(post, \"selftext\", None)),\n",
    "            \"score\": post.score,\n",
    "            \"num_comments\": post.num_comments,\n",
    "            \"link_flair_text\": getattr(post, \"link_flair_text\", None),\n",
    "            \"permalink\": f\"https://www.reddit.com{post.permalink}\",\n",
    "            \"stickied\": post.stickied,\n",
    "            \"locked\": post.locked,\n",
    "            \"upvote_ratio\": getattr(post, \"upvote_ratio\", None),\n",
    "        })\n",
    "\n",
    "        # print progress every 10%\n",
    "        if i % checkpoint == 0:\n",
    "            pct = int(i / limit * 100)\n",
    "            print(f\"... {pct}% ({i}/{limit}) posts scraped\")\n",
    "\n",
    "    print(f\"Done! Collected {len(rows)} posts from r/{subreddit_name}\")\n",
    "\n",
    "    end = time.time()\n",
    "    runtime = (end - start)/60\n",
    "    print(f\"Total runtime was {runtime:.2f} minutes.\")\n",
    "    \n",
    "    return pd.DataFrame(rows)"
   ]
  },
  {
   "cell_type": "code",
   "execution_count": 35,
   "id": "0f651cfc-8681-4cf1-9c90-01f30bfb11a6",
   "metadata": {},
   "outputs": [
    {
     "name": "stdout",
     "output_type": "stream",
     "text": [
      "... 10% (200/2000) posts scraped\n",
      "... 20% (400/2000) posts scraped\n",
      "... 30% (600/2000) posts scraped\n",
      "... 40% (800/2000) posts scraped\n",
      "Done! Collected 994 posts from r/lululemon\n",
      "Total runtime was 0.30 minutes.\n",
      "Total runtime was 0.30 minutes\n"
     ]
    }
   ],
   "source": [
    "# Fetch posts\n",
    "start = time.time()\n",
    "posts_df = fetch_posts(limit = 2000)\n",
    "end = time.time()\n",
    "\n",
    "runtime = (end - start)/60\n",
    "\n",
    "print(f\"Total runtime was {runtime:.2f} minutes\")"
   ]
  },
  {
   "cell_type": "code",
   "execution_count": 37,
   "id": "18e4c806-0200-4ca6-bcf3-465b55a6b478",
   "metadata": {},
   "outputs": [
    {
     "name": "stdout",
     "output_type": "stream",
     "text": [
      "I ordered the Mystic Aligns from WMTM last week (was shocked to see they were $59!) They arrived Sunday and today it was cool enough to wear them! I paired them with my matching waist length Align Cami under my work shirt, but I also tried them with a couple other items for the sake of some photos too. 🤍HCULG Oversized Full-Zip Scuba Hoodie (xs/s) 🍇Chilled Grape Swiftly Tech Short-Sleeve Shirt Waist Length (6) ☪️Mystic Align Waist-Length Cami Tank Top A/B Cup (8) 🔮Mystic Align HR Pant 25\" (8) 🩶Heathered Silver Drop Daily Stride Quarter Socks (M)\n"
     ]
    }
   ],
   "source": [
    "post = posts_df['text'][0]\n",
    "print(post)"
   ]
  },
  {
   "cell_type": "code",
   "execution_count": 38,
   "id": "8f5668c4-d921-4dd1-9be6-16a07b687f36",
   "metadata": {},
   "outputs": [
    {
     "name": "stdout",
     "output_type": "stream",
     "text": [
      "<class 'pandas.core.frame.DataFrame'>\n",
      "RangeIndex: 994 entries, 0 to 993\n",
      "Data columns (total 12 columns):\n",
      " #   Column           Non-Null Count  Dtype              \n",
      "---  ------           --------------  -----              \n",
      " 0   post_id          994 non-null    object             \n",
      " 1   timestamp        994 non-null    datetime64[ns, UTC]\n",
      " 2   author           989 non-null    object             \n",
      " 3   title            994 non-null    object             \n",
      " 4   text             994 non-null    object             \n",
      " 5   score            994 non-null    int64              \n",
      " 6   num_comments     994 non-null    int64              \n",
      " 7   link_flair_text  994 non-null    object             \n",
      " 8   permalink        994 non-null    object             \n",
      " 9   stickied         994 non-null    bool               \n",
      " 10  locked           994 non-null    bool               \n",
      " 11  upvote_ratio     994 non-null    float64            \n",
      "dtypes: bool(2), datetime64[ns, UTC](1), float64(1), int64(2), object(6)\n",
      "memory usage: 79.7+ KB\n"
     ]
    }
   ],
   "source": [
    "posts_df.info()"
   ]
  }
 ],
 "metadata": {
  "kernelspec": {
   "display_name": "Python (lulu_env)",
   "language": "python",
   "name": "lulu_env"
  },
  "language_info": {
   "codemirror_mode": {
    "name": "ipython",
    "version": 3
   },
   "file_extension": ".py",
   "mimetype": "text/x-python",
   "name": "python",
   "nbconvert_exporter": "python",
   "pygments_lexer": "ipython3",
   "version": "3.10.18"
  }
 },
 "nbformat": 4,
 "nbformat_minor": 5
}
