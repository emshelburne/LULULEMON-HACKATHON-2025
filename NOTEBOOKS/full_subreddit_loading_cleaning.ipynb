{
 "cells": [
  {
   "cell_type": "markdown",
   "id": "122544e8-52a3-4871-b621-3b9dbb66f2d4",
   "metadata": {},
   "source": [
    "# Loading and Cleaning Complete Dataset from lululemon's Subreddit"
   ]
  },
  {
   "cell_type": "markdown",
   "id": "c9852708-6e15-4b1f-bef6-f4888ffb77a8",
   "metadata": {},
   "source": [
    "In this notebok, we load and clean the full dataset we acquired from lululemon's subreddit."
   ]
  },
  {
   "cell_type": "markdown",
   "id": "1f45f844-7678-47d9-81c9-492d8571f422",
   "metadata": {},
   "source": [
    "## Preliminaries"
   ]
  },
  {
   "cell_type": "code",
   "execution_count": 30,
   "id": "9ac48e06-1b3a-4dd8-ba25-f8cc9daee548",
   "metadata": {
    "jupyter": {
     "source_hidden": true
    }
   },
   "outputs": [],
   "source": [
    "# Imports\n",
    "\n",
    "import json\n",
    "import zstandard as zstd\n",
    "import pandas as pd\n",
    "from dotenv import load_dotenv\n",
    "import os\n",
    "import io\n",
    "import matplotlib.pyplot as plt\n",
    "import re\n",
    "import numpy as np\n",
    "import time\n",
    "from datetime import datetime, timezone, timedelta\n",
    "from typing import Optional"
   ]
  },
  {
   "cell_type": "code",
   "execution_count": 3,
   "id": "cfa28980-b7fb-4c70-92dd-ff0903377914",
   "metadata": {
    "jupyter": {
     "source_hidden": true
    }
   },
   "outputs": [],
   "source": [
    "# Set user's data path\n",
    "\n",
    "PATH = f\"C:/Users/emshe/Desktop/BRAINSTATION/LULULEMON/DATA/TORRENTED/reddit/subreddits24/lululemon_submissions\""
   ]
  },
  {
   "cell_type": "markdown",
   "id": "93e7c212-fa67-40e1-872f-bfd63fe1382a",
   "metadata": {},
   "source": [
    "## Helper functions "
   ]
  },
  {
   "cell_type": "code",
   "execution_count": 4,
   "id": "9a7ec57d-8299-43dd-9343-252d47d0bae0",
   "metadata": {
    "jupyter": {
     "source_hidden": true
    }
   },
   "outputs": [],
   "source": [
    "# Function to clean text\n",
    "\n",
    "def clean_text(s: str | None) -> str | None:\n",
    "    \n",
    "    '''\n",
    "    Clean string by substituting spaces for problematic characters\n",
    "    '''\n",
    "    \n",
    "    if s is None:\n",
    "        return None\n",
    "    s = re.sub(r\"\\s+\", \" \", s).strip()\n",
    "    return s"
   ]
  },
  {
   "cell_type": "code",
   "execution_count": 5,
   "id": "b388f449-e518-4bf3-8680-e6024a8e3608",
   "metadata": {
    "jupyter": {
     "source_hidden": true
    }
   },
   "outputs": [],
   "source": [
    "# Function to get datetime from UTC timestamp\n",
    "\n",
    "def dt_from_epoch(ts: Optional[int]):\n",
    "\n",
    "    \"\"\"\n",
    "    Convert timestamp to pd.datetime format\n",
    "    \"\"\"\n",
    "\n",
    "    \n",
    "    if ts is None:\n",
    "        return None\n",
    "    return pd.to_datetime(ts, unit=\"s\", utc=True)"
   ]
  },
  {
   "cell_type": "code",
   "execution_count": 6,
   "id": "c31afab8-4692-43da-87bc-0723484c41b8",
   "metadata": {
    "jupyter": {
     "source_hidden": true
    }
   },
   "outputs": [],
   "source": [
    "# Function to examine dataframes\n",
    "\n",
    "def examine_df(name,df,\n",
    "               include_stats = True,\n",
    "               include_sample = True):\n",
    "    \n",
    "    \"\"\"\n",
    "    Check basic info about a dataframe df\n",
    "    \"\"\"\n",
    "    \n",
    "    print(f\"\\n\\nNumber of records in the {name} is: {len(df)}\\n\")\n",
    "    print(f\"\\nNumber of features in the {name} is: {len(df.columns)}\\n\")\n",
    "    print(f\"The columns in the {name} are: {df.columns}\\n\")\n",
    "    print(f\"\\n Other info about {name}:\\n\")\n",
    "    display(df.info())\n",
    "    if include_stats == True:\n",
    "        print(f'\\n Basic statistical info about {name}:\\n')\n",
    "        display(df.describe())\n",
    "    if include_sample == True:\n",
    "        print(f\"\\n\\nSample of records in the {name}:\")\n",
    "        display(df.head(5))"
   ]
  },
  {
   "cell_type": "code",
   "execution_count": 13,
   "id": "94e964fb-cd5c-4f31-a3de-b34833a66d2d",
   "metadata": {
    "jupyter": {
     "source_hidden": true
    }
   },
   "outputs": [],
   "source": [
    "# Function to get sample from text column\n",
    "\n",
    "def get_text_samples(df: pd.DataFrame, text_col: str, n: int) -> None:\n",
    "\n",
    "    '''\n",
    "    Print n samples from a text column in a dataframe\n",
    "    '''\n",
    "\n",
    "    # Ensure pandas doesn't truncate text\n",
    "    pd.set_option('display.max_colwidth', None)\n",
    "    \n",
    "    # Sample and print 5 full negative reviews\n",
    "    print(\"Sample text data:\\n\\n\")\n",
    "    sample = df[text_col].sample(n)\n",
    "    for i, description in enumerate(sample, 1):\n",
    "        print(f\"Text sample {i}:\\n\\n\\n{description}\\n\\n\\n\")"
   ]
  },
  {
   "cell_type": "code",
   "execution_count": 27,
   "id": "f37be0d6-5f22-4ed3-87e1-b4a69677e0b0",
   "metadata": {
    "jupyter": {
     "source_hidden": true
    }
   },
   "outputs": [],
   "source": [
    "# Function for categorical bar graph\n",
    "\n",
    "def bar_graph(df: pd.DataFrame, col: str) -> None:\n",
    "\n",
    "    \"\"\"\n",
    "    Generate bar graph for categorical column in a dataframe\n",
    "    \"\"\"\n",
    "\n",
    "    if col not in df.columns:\n",
    "        raise ValueError(f\"Column '{col}' not found in dataframe\")\n",
    "\n",
    "    counts = posts_df[col].value_counts()\n",
    "    \n",
    "    plt.figure(figsize=(10,6))\n",
    "    counts.plot(kind=\"bar\")\n",
    "    plt.title(f\"Distribution of {col.title()}\")\n",
    "    plt.xlabel(f\"{col.title()}\")\n",
    "    plt.ylabel(\"Count\")\n",
    "    plt.xticks(rotation=45, ha=\"right\")\n",
    "    plt.tight_layout()\n",
    "    plt.show()"
   ]
  },
  {
   "cell_type": "code",
   "execution_count": 28,
   "id": "cc8ae594-562e-49e5-a6e3-0f7c126993ca",
   "metadata": {
    "jupyter": {
     "source_hidden": true
    }
   },
   "outputs": [],
   "source": [
    "# Define function to plot histogram for numeric columns\n",
    "\n",
    "def histogram(df: pd.DataFrame, \n",
    "             col: str,\n",
    "            bins: int = 30,\n",
    "             log: bool = False) -> None:\n",
    "    \n",
    "    \"\"\"\n",
    "    Generate a histogram for a numeric column in a dataframe.\n",
    "    \"\"\"\n",
    "    \n",
    "    if col not in df.columns:\n",
    "        raise ValueError(f\"Column '{col}' not found in dataframe\")\n",
    "    \n",
    "    plt.figure(figsize=(8, 5))\n",
    "    df[col].dropna().hist(bins=bins, edgecolor=\"black\", log=log)\n",
    "    plt.title(f\"Histogram of {col.title()}\")\n",
    "    plt.xlabel(col.title())\n",
    "    plt.ylabel(\"Log(Frequency)\" if log else \"Frequency\")\n",
    "    plt.tight_layout()\n",
    "    plt.show()"
   ]
  },
  {
   "cell_type": "code",
   "execution_count": 26,
   "id": "a314a84b-a9ef-4b8c-b3f7-6fc4a06bb7b0",
   "metadata": {
    "jupyter": {
     "source_hidden": true
    }
   },
   "outputs": [],
   "source": [
    "# Function to load ndjson\n",
    "\n",
    "def load_plain_ndjson(path: str, limit: Optional[int] = None) -> pd.DataFrame:\n",
    "    \n",
    "    \"\"\"\n",
    "    Load a plain-text NDJSON file line by line into a DataFrame.\n",
    "    \"\"\"\n",
    "    \n",
    "    rows = []\n",
    "    with open(path, \"r\", encoding=\"utf-8\") as f:\n",
    "        for i, line in enumerate(f, start=1):\n",
    "            if not line.strip():\n",
    "                continue\n",
    "            obj = json.loads(line)\n",
    "\n",
    "            rows.append({\n",
    "                \"post_id\": obj.get(\"id\"),\n",
    "                \"timestamp\": dt_from_epoch(obj.get(\"created_utc\")),\n",
    "                \"author\": obj.get(\"author\"),\n",
    "                \"title\": obj.get(\"title\"),\n",
    "                \"text\": obj.get(\"selftext\"),\n",
    "                \"score\": obj.get(\"score\"),\n",
    "                \"num_comments\": obj.get(\"num_comments\"),\n",
    "                \"permalink\": obj.get(\"permalink\"),\n",
    "                \"subreddit\": obj.get(\"subreddit\"),\n",
    "            })\n",
    "\n",
    "            if limit and i >= limit:\n",
    "                break\n",
    "\n",
    "    return pd.DataFrame(rows)"
   ]
  },
  {
   "cell_type": "markdown",
   "id": "2bcc6245-b542-4dd5-8e0d-0f05a02f765f",
   "metadata": {},
   "source": [
    "## Load and Inspect Data"
   ]
  },
  {
   "cell_type": "code",
   "execution_count": 25,
   "id": "97565912-b49f-4e9c-9240-c868c1ff6d15",
   "metadata": {
    "jupyter": {
     "source_hidden": true
    }
   },
   "outputs": [],
   "source": [
    "# Load full dataframe of posts from plain ndjson\n",
    "\n",
    "# lulu_df = load_plain_ndjson(f\"{PATH}/lululemon_submissions\", limit=None)\n",
    "# print(lulu_df.shape)\n",
    "# lulu_df.head(3)"
   ]
  },
  {
   "cell_type": "code",
   "execution_count": 9,
   "id": "d4bc877b-f367-4608-a90f-354ae40227fd",
   "metadata": {
    "jupyter": {
     "source_hidden": true
    }
   },
   "outputs": [
    {
     "name": "stdout",
     "output_type": "stream",
     "text": [
      "2012-02-24 03:20:25+00:00 to 2024-12-31 23:30:34+00:00\n"
     ]
    }
   ],
   "source": [
    "# Look at date range\n",
    "\n",
    "print(lulu_df[\"timestamp\"].min(), \"to\", lulu_df[\"timestamp\"].max())"
   ]
  },
  {
   "cell_type": "code",
   "execution_count": 17,
   "id": "f08c9ecc-b7ef-4e16-b850-4e8a21c6c744",
   "metadata": {
    "jupyter": {
     "source_hidden": true
    }
   },
   "outputs": [],
   "source": [
    "# Save to Parquet file\n",
    "\n",
    "# lulu_df.to_parquet(\"lululemon_submissions_full.parquet\", index=False)"
   ]
  },
  {
   "cell_type": "code",
   "execution_count": 11,
   "id": "c02abdf0-3c30-4c58-9bae-5f4d334830a3",
   "metadata": {
    "jupyter": {
     "source_hidden": true
    }
   },
   "outputs": [],
   "source": [
    "# Read back from the parquet\n",
    "\n",
    "lulu_df = pd.read_parquet(\"lululemon_submissions_full.parquet\")"
   ]
  },
  {
   "cell_type": "code",
   "execution_count": 20,
   "id": "d73583f4-d241-45e0-80ae-aad65a06b53d",
   "metadata": {
    "jupyter": {
     "source_hidden": true
    }
   },
   "outputs": [],
   "source": [
    "# Create copy of original dataframe\n",
    "\n",
    "og_lulu_df = lulu_df.copy()"
   ]
  },
  {
   "cell_type": "code",
   "execution_count": 12,
   "id": "867a9718-894c-45a9-9712-52a7798a46cb",
   "metadata": {
    "collapsed": true,
    "jupyter": {
     "outputs_hidden": true,
     "source_hidden": true
    },
    "scrolled": true
   },
   "outputs": [
    {
     "name": "stdout",
     "output_type": "stream",
     "text": [
      "\n",
      "\n",
      "Number of records in the lulu dataframe is: 179682\n",
      "\n",
      "\n",
      "Number of features in the lulu dataframe is: 9\n",
      "\n",
      "The columns in the lulu dataframe are: Index(['post_id', 'timestamp', 'author', 'title', 'text', 'score',\n",
      "       'num_comments', 'permalink', 'subreddit'],\n",
      "      dtype='object')\n",
      "\n",
      "\n",
      " Other info about lulu dataframe:\n",
      "\n",
      "<class 'pandas.core.frame.DataFrame'>\n",
      "RangeIndex: 179682 entries, 0 to 179681\n",
      "Data columns (total 9 columns):\n",
      " #   Column        Non-Null Count   Dtype              \n",
      "---  ------        --------------   -----              \n",
      " 0   post_id       179682 non-null  object             \n",
      " 1   timestamp     179682 non-null  datetime64[ns, UTC]\n",
      " 2   author        179682 non-null  object             \n",
      " 3   title         179682 non-null  object             \n",
      " 4   text          179682 non-null  object             \n",
      " 5   score         179682 non-null  int64              \n",
      " 6   num_comments  179682 non-null  int64              \n",
      " 7   permalink     179682 non-null  object             \n",
      " 8   subreddit     179682 non-null  object             \n",
      "dtypes: datetime64[ns, UTC](1), int64(2), object(6)\n",
      "memory usage: 12.3+ MB\n"
     ]
    },
    {
     "data": {
      "text/plain": [
       "None"
      ]
     },
     "metadata": {},
     "output_type": "display_data"
    },
    {
     "name": "stdout",
     "output_type": "stream",
     "text": [
      "\n",
      " Basic statistical info about lulu dataframe:\n",
      "\n"
     ]
    },
    {
     "data": {
      "text/html": [
       "<div>\n",
       "<style scoped>\n",
       "    .dataframe tbody tr th:only-of-type {\n",
       "        vertical-align: middle;\n",
       "    }\n",
       "\n",
       "    .dataframe tbody tr th {\n",
       "        vertical-align: top;\n",
       "    }\n",
       "\n",
       "    .dataframe thead th {\n",
       "        text-align: right;\n",
       "    }\n",
       "</style>\n",
       "<table border=\"1\" class=\"dataframe\">\n",
       "  <thead>\n",
       "    <tr style=\"text-align: right;\">\n",
       "      <th></th>\n",
       "      <th>score</th>\n",
       "      <th>num_comments</th>\n",
       "    </tr>\n",
       "  </thead>\n",
       "  <tbody>\n",
       "    <tr>\n",
       "      <th>count</th>\n",
       "      <td>179682.000000</td>\n",
       "      <td>179682.000000</td>\n",
       "    </tr>\n",
       "    <tr>\n",
       "      <th>mean</th>\n",
       "      <td>35.753592</td>\n",
       "      <td>11.113818</td>\n",
       "    </tr>\n",
       "    <tr>\n",
       "      <th>std</th>\n",
       "      <td>80.277532</td>\n",
       "      <td>25.579206</td>\n",
       "    </tr>\n",
       "    <tr>\n",
       "      <th>min</th>\n",
       "      <td>0.000000</td>\n",
       "      <td>0.000000</td>\n",
       "    </tr>\n",
       "    <tr>\n",
       "      <th>25%</th>\n",
       "      <td>1.000000</td>\n",
       "      <td>2.000000</td>\n",
       "    </tr>\n",
       "    <tr>\n",
       "      <th>50%</th>\n",
       "      <td>7.000000</td>\n",
       "      <td>6.000000</td>\n",
       "    </tr>\n",
       "    <tr>\n",
       "      <th>75%</th>\n",
       "      <td>44.000000</td>\n",
       "      <td>12.000000</td>\n",
       "    </tr>\n",
       "    <tr>\n",
       "      <th>max</th>\n",
       "      <td>11864.000000</td>\n",
       "      <td>1987.000000</td>\n",
       "    </tr>\n",
       "  </tbody>\n",
       "</table>\n",
       "</div>"
      ],
      "text/plain": [
       "               score   num_comments\n",
       "count  179682.000000  179682.000000\n",
       "mean       35.753592      11.113818\n",
       "std        80.277532      25.579206\n",
       "min         0.000000       0.000000\n",
       "25%         1.000000       2.000000\n",
       "50%         7.000000       6.000000\n",
       "75%        44.000000      12.000000\n",
       "max     11864.000000    1987.000000"
      ]
     },
     "metadata": {},
     "output_type": "display_data"
    },
    {
     "name": "stdout",
     "output_type": "stream",
     "text": [
      "\n",
      "\n",
      "Sample of records in the lulu dataframe:\n"
     ]
    },
    {
     "data": {
      "text/html": [
       "<div>\n",
       "<style scoped>\n",
       "    .dataframe tbody tr th:only-of-type {\n",
       "        vertical-align: middle;\n",
       "    }\n",
       "\n",
       "    .dataframe tbody tr th {\n",
       "        vertical-align: top;\n",
       "    }\n",
       "\n",
       "    .dataframe thead th {\n",
       "        text-align: right;\n",
       "    }\n",
       "</style>\n",
       "<table border=\"1\" class=\"dataframe\">\n",
       "  <thead>\n",
       "    <tr style=\"text-align: right;\">\n",
       "      <th></th>\n",
       "      <th>post_id</th>\n",
       "      <th>timestamp</th>\n",
       "      <th>author</th>\n",
       "      <th>title</th>\n",
       "      <th>text</th>\n",
       "      <th>score</th>\n",
       "      <th>num_comments</th>\n",
       "      <th>permalink</th>\n",
       "      <th>subreddit</th>\n",
       "    </tr>\n",
       "  </thead>\n",
       "  <tbody>\n",
       "    <tr>\n",
       "      <th>0</th>\n",
       "      <td>q4fq0</td>\n",
       "      <td>2012-02-24 19:27:03+00:00</td>\n",
       "      <td>punnyenough</td>\n",
       "      <td>Favourite items?</td>\n",
       "      <td>Discuss and share your favourites here. :-)</td>\n",
       "      <td>4</td>\n",
       "      <td>8</td>\n",
       "      <td>/r/lululemon/comments/q4fq0/favourite_items/</td>\n",
       "      <td>lululemon</td>\n",
       "    </tr>\n",
       "    <tr>\n",
       "      <th>1</th>\n",
       "      <td>q3j88</td>\n",
       "      <td>2012-02-24 03:20:25+00:00</td>\n",
       "      <td>punnyenough</td>\n",
       "      <td>Lululemon Addict Blog</td>\n",
       "      <td></td>\n",
       "      <td>4</td>\n",
       "      <td>0</td>\n",
       "      <td>/r/lululemon/comments/q3j88/lululemon_addict_b...</td>\n",
       "      <td>lululemon</td>\n",
       "    </tr>\n",
       "    <tr>\n",
       "      <th>2</th>\n",
       "      <td>q57gx</td>\n",
       "      <td>2012-02-25 06:36:07+00:00</td>\n",
       "      <td>punnyenough</td>\n",
       "      <td>Does anyone want to be a mod?</td>\n",
       "      <td>PM me if you are interested! \\nI am also think...</td>\n",
       "      <td>4</td>\n",
       "      <td>0</td>\n",
       "      <td>/r/lululemon/comments/q57gx/does_anyone_want_t...</td>\n",
       "      <td>lululemon</td>\n",
       "    </tr>\n",
       "    <tr>\n",
       "      <th>3</th>\n",
       "      <td>q66h5</td>\n",
       "      <td>2012-02-26 02:03:02+00:00</td>\n",
       "      <td>punnyenough</td>\n",
       "      <td>Buying a lululemon yoga mat: worth the money?</td>\n",
       "      <td>If you do yoga, where did you buy your yoga ma...</td>\n",
       "      <td>3</td>\n",
       "      <td>2</td>\n",
       "      <td>/r/lululemon/comments/q66h5/buying_a_lululemon...</td>\n",
       "      <td>lululemon</td>\n",
       "    </tr>\n",
       "    <tr>\n",
       "      <th>4</th>\n",
       "      <td>u2q3y</td>\n",
       "      <td>2012-05-24 13:39:40+00:00</td>\n",
       "      <td>lululemonrocks</td>\n",
       "      <td>Groove Pants - The holy grail of Yoga Pants</td>\n",
       "      <td></td>\n",
       "      <td>1</td>\n",
       "      <td>1</td>\n",
       "      <td>/r/lululemon/comments/u2q3y/groove_pants_the_h...</td>\n",
       "      <td>lululemon</td>\n",
       "    </tr>\n",
       "  </tbody>\n",
       "</table>\n",
       "</div>"
      ],
      "text/plain": [
       "  post_id                 timestamp          author  \\\n",
       "0   q4fq0 2012-02-24 19:27:03+00:00     punnyenough   \n",
       "1   q3j88 2012-02-24 03:20:25+00:00     punnyenough   \n",
       "2   q57gx 2012-02-25 06:36:07+00:00     punnyenough   \n",
       "3   q66h5 2012-02-26 02:03:02+00:00     punnyenough   \n",
       "4   u2q3y 2012-05-24 13:39:40+00:00  lululemonrocks   \n",
       "\n",
       "                                           title  \\\n",
       "0                               Favourite items?   \n",
       "1                          Lululemon Addict Blog   \n",
       "2                  Does anyone want to be a mod?   \n",
       "3  Buying a lululemon yoga mat: worth the money?   \n",
       "4    Groove Pants - The holy grail of Yoga Pants   \n",
       "\n",
       "                                                text  score  num_comments  \\\n",
       "0        Discuss and share your favourites here. :-)      4             8   \n",
       "1                                                         4             0   \n",
       "2  PM me if you are interested! \\nI am also think...      4             0   \n",
       "3  If you do yoga, where did you buy your yoga ma...      3             2   \n",
       "4                                                         1             1   \n",
       "\n",
       "                                           permalink  subreddit  \n",
       "0       /r/lululemon/comments/q4fq0/favourite_items/  lululemon  \n",
       "1  /r/lululemon/comments/q3j88/lululemon_addict_b...  lululemon  \n",
       "2  /r/lululemon/comments/q57gx/does_anyone_want_t...  lululemon  \n",
       "3  /r/lululemon/comments/q66h5/buying_a_lululemon...  lululemon  \n",
       "4  /r/lululemon/comments/u2q3y/groove_pants_the_h...  lululemon  "
      ]
     },
     "metadata": {},
     "output_type": "display_data"
    }
   ],
   "source": [
    "# Examine lulu dataframe\n",
    "\n",
    "examine_df('lulu dataframe', lulu_df)"
   ]
  },
  {
   "cell_type": "code",
   "execution_count": 37,
   "id": "b0c2b96b-d8cb-47b8-8e1d-51575374b045",
   "metadata": {
    "collapsed": true,
    "jupyter": {
     "outputs_hidden": true,
     "source_hidden": true
    },
    "scrolled": true
   },
   "outputs": [
    {
     "name": "stdout",
     "output_type": "stream",
     "text": [
      "Sample text data:\n",
      "\n",
      "\n",
      "Text sample 1:\n",
      "\n",
      "\n",
      "Happy Pi Day! 🥧 You know the drill, when posting links please post in this format:\n",
      "\n",
      "* Item Name (Color, Color) [lululemon.com/](https://lululemon.com/)\n",
      "* *Ex:* Energy bra (Black, Blue) [lululemon.com/](https://lululemon.com/)\n",
      "\n",
      "And no affiliate links!\n",
      "\n",
      "&amp;#x200B;\n",
      "\n",
      "**TOPS:**\n",
      "\n",
      "All It Take Short Sleeve Shirt (Wild Indigo) [https://shop.lululemon.com/p/tops-short-sleeve/All-It-Takes-Tee-Nulu/\\_/prod9370043?color=58292](https://shop.lululemon.com/p/tops-short-sleeve/All-It-Takes-Tee-Nulu/_/prod9370043?color=58292)\n",
      "\n",
      "Ebb to Street High Neck Tank Top (White, Velvet Dust, Powder Blue, Black) [https://shop.lululemon.com/p/women-tanks/Ebb-to-Street-High-Neck-Tank-Top/\\_/prod11380255?locale=en\\_US&amp;sl=US&amp;color=0002](https://shop.lululemon.com/p/women-tanks/Ebb-to-Street-High-Neck-Tank-Top/_/prod11380255?locale=en_US&amp;sl=US&amp;color=0002)\n",
      "\n",
      "Ebb to Street Long-Sleeve Shirt (Velvet Dust) [https://shop.lululemon.com/p/tops-long-sleeve/Ebb-to-Street-Long-Sleeve/\\_/prod10641627?color=29847](https://shop.lululemon.com/p/tops-long-sleeve/Ebb-to-Street-Long-Sleeve/_/prod10641627?color=29847)\n",
      "\n",
      "Hold Tight Short-Sleeve Shirt (Sonic Pink) [https://shop.lululemon.com/p/tops-short-sleeve/Hold-Tight-Short-Sleeve/\\_/prod9960704?color=36161](https://shop.lululemon.com/p/tops-short-sleeve/Hold-Tight-Short-Sleeve/_/prod9960704?color=36161)\n",
      "\n",
      "Hold Tight Tank Top (Java) [https://shop.lululemon.com/p/women-tanks/Hold-Tight-Tank/\\_/prod9960705?color=52868](https://shop.lululemon.com/p/women-tanks/Hold-Tight-Tank/_/prod9960705?color=52868)\n",
      "\n",
      "Lightweight Stretch Running Tank Top Flow (In-Sense Color Emboss Orange,  In-Sense Emboss Mini Bone and In-Sense Emboss Black ) [https://shop.lululemon.com/p/women-tanks/Lightweight-Stretch-Running-Tank-Airflow/\\_/prod11380561?locale=en\\_US&amp;sl=US&amp;color=60344](https://shop.lululemon.com/p/women-tanks/Lightweight-Stretch-Running-Tank-Airflow/_/prod11380561?locale=en_US&amp;sl=US&amp;color=60344)\n",
      "\n",
      "Love Long Sleeve (Tidal Teal) [https://shop.lululemon.com/p/tops-long-sleeve/Love-Long-Sleeve/\\_/prod10550097?color=34563](https://shop.lululemon.com/p/tops-long-sleeve/Love-Long-Sleeve/_/prod10550097?color=34563)\n",
      "\n",
      "Swiftly Relaxed Long Sleeve Shirt (Sunny Coral) [https://shop.lululemon.com/p/tops-long-sleeve/Swiftly-Tech-LS-Breeze/\\_/prod8510157?color=60449](https://shop.lululemon.com/p/tops-long-sleeve/Swiftly-Tech-LS-Breeze/_/prod8510157?color=60449)\n",
      "\n",
      "Swiftly Tech Cropped Long-Sleeve Shirt 2.0 (Solar Orange/Sunny Coral, Electric Lemon/Bone, Chambray/Powder Blue) [https://shop.lululemon.com/p/tops-long-sleeve/Swiftly-Tech-Cropped-Long-Sleeve-Shirt-2/\\_/prod11380553?color=60283](https://shop.lululemon.com/p/tops-long-sleeve/Swiftly-Tech-Cropped-Long-Sleeve-Shirt-2/_/prod11380553?color=60283)\n",
      "\n",
      "Swiftly Tech Short Sleeve 2.0 (Sunny Coral, Marble Dye Solar Orange, Velvet Dust, Tetra Stripe Vapor/Rhino Grey/Wild Indigo/Maldives Green, Marble Dye Sonic Pink) [https://shop.lululemon.com/p/tops-short-sleeve/Swiftly-Tech-SS-2/\\_/prod9750519?color=60449](https://shop.lululemon.com/p/tops-short-sleeve/Swiftly-Tech-SS-2/_/prod9750519?color=60449)\n",
      "\n",
      "Swiftly Tech Long Sleeve Shirt 2.0 ( Wee Are From Space Tidal Teal) [https://shop.lululemon.com/p/tops-long-sleeve/Swiftly-Tech-LS-2-Race/\\_/prod9750541?color=60497](https://shop.lululemon.com/p/tops-long-sleeve/Swiftly-Tech-LS-2-Race/_/prod9750541?color=60497)\n",
      "\n",
      "UV Protection Fold Over Running T-Shirt (White) [https://shop.lululemon.com/p/womens-t-shirts/UV-Protection-Fold-Over-Running-T-Shirt/\\_/prod11380367?locale=en\\_US&amp;sl=US&amp;color=0002](https://shop.lululemon.com/p/womens-t-shirts/UV-Protection-Fold-Over-Running-T-Shirt/_/prod11380367?locale=en_US&amp;sl=US&amp;color=0002)\n",
      "\n",
      "Wunder Train Mesh Strap Tank Top (Electric Lemon/Electric Lemon, Bone/Bone) [https://shop.lululemon.com/p/women-tanks/Wunder-Train-Mesh-Strap-Tank-Top/\\_/prod11380441?color=59179](https://shop.lululemon.com/p/women-tanks/Wunder-Train-Mesh-Strap-Tank-Top/_/prod11380441?color=59179)\n",
      "\n",
      "**OUTERWEAR:**\n",
      "\n",
      "Hooded Define Jacket Nulu (Raw Linen) [https://shop.lululemon.com/p/jackets-and-hoodies-jackets/Hooded-Define-Jacket-Nulu/\\_/prod9090070?color=48432](https://shop.lululemon.com/p/jackets-and-hoodies-jackets/Hooded-Define-Jacket-Nulu/_/prod9090070?color=48432)\n",
      "\n",
      "Mist Over Windbreaker (Powder Blue, Black) [https://shop.lululemon.com/p/jackets-and-hoodies-jackets/Mist-Over-Windbreaker/\\_/prod9270522?locale=en\\_US&amp;sl=US&amp;color=58302](https://shop.lululemon.com/p/jackets-and-hoodies-jackets/Mist-Over-Windbreaker/_/prod9270522?locale=en_US&amp;sl=US&amp;color=58302)\n",
      "\n",
      "Ventilating UV Protection Running Jacket (Solar Orange) [https://shop.lululemon.com/p/jackets-and-hoodies-jackets/Ventilating-UV-Protection-Running-Jacket/\\_/prod11380337?locale=en\\_US&amp;sl=US&amp;color=34975](https://shop.lululemon.com/p/jackets-and-hoodies-jackets/Ventilating-UV-Protection-Running-Jacket/_/prod11380337?locale=en_US&amp;sl=US&amp;color=34975)\n",
      "\n",
      "**DRESSES:**\n",
      "\n",
      "Sleeveless French Terry Dress (bone, black) [https://shop.lululemon.com/p/skirts-and-dresses-dresses/Sleeveless-French-Terry-Dress/\\_/prod11380437?color=27597](https://shop.lululemon.com/p/skirts-and-dresses-dresses/Sleeveless-French-Terry-Dress/_/prod11380437?color=27597)\n",
      "\n",
      "**BODYSUITS/DRESSES:**\n",
      "\n",
      "Align™ Bodysuit 25\" (Chambray, Twilight Rose) [https://shop.lululemon.com/p/women-bodysuits/Align-Bodysuit-25/\\_/prod10980020?color=55138](https://shop.lululemon.com/p/women-bodysuits/Align-Bodysuit-25/_/prod10980020?color=55138)\n",
      "\n",
      "Ribbed Align Bodysuit 25” (Velvet Dust) [https://shop.lululemon.com/p/skirts-and-dresses-dresses/Align-Ribbed-Bodysuit-25](https://shop.lululemon.com/p/skirts-and-dresses-dresses/Align-Ribbed-Bodysuit-25)\n",
      "\n",
      "Ribbed Contoured Unitard 6” (white) [https://shop.lululemon.com/p/skirts-and-dresses-dresses/Ribbed-Contoured-Yoga-Unitard-6-Updated/\\_/prod10510149?color=0002](https://shop.lululemon.com/p/skirts-and-dresses-dresses/Ribbed-Contoured-Yoga-Unitard-6-Updated/_/prod10510149?color=0002)\n",
      "\n",
      "**LEGGINGS:**\n",
      "\n",
      "Fast and Free High-Rise Tight 25\" (Carbon Dust, Wild Indigo, Luminescent Floral Multi) [https://shop.lululemon.com/p/womens-leggings/Fast-And-Free-Tight-II-NR/\\_/prod8960003?color=35488](https://shop.lululemon.com/p/womens-leggings/Fast-And-Free-Tight-II-NR/_/prod8960003?color=35488)\n",
      "\n",
      "Swift Speed High-Rise Crop 21\" (Tidal Teal) [https://shop.lululemon.com/p/womens-leggings/Swift-Speed-HighRise-Crop-21/\\_/prod9960838?color=34563](https://shop.lululemon.com/p/womens-leggings/Swift-Speed-HighRise-Crop-21/_/prod9960838?color=34563)\n",
      "\n",
      "**JOGGERS, PANTS:**\n",
      "\n",
      "Smooth Fit Pull On HR Cropped Pants (Java, True Navy) [https://shop.lululemon.com/p/women-crops/Smooth-Fit-Pull-On-High-Rise-Cropped-Pants-26/](https://shop.lululemon.com/p/women-crops/Smooth-Fit-Pull-On-High-Rise-Cropped-Pants-26/)\n",
      "\n",
      "**ACCESSORIES:**\n",
      "\n",
      "Clippable Card Pouch Manifesto Print (White/Black, White/Red) [https://shop.lululemon.com/p/bags/Clippable-Card-Pouch-Manifesto-Print/](https://shop.lululemon.com/p/bags/Clippable-Card-Pouch-Manifesto-Print/)\n",
      "\n",
      "Curved Wristlet (White/Lulu Red, White/Black)  [https://shop.lululemon.com/p/bags/Curved-Wristlet-Manifesto-Print/\\_/prod11380608?color=49006&amp;sz=ONESIZE](https://shop.lululemon.com/p/bags/Curved-Wristlet-Manifesto-Print/_/prod11380608?color=49006&amp;sz=ONESIZE)  \n",
      "\n",
      "Everywhere Belt Bag 1L (Hyper Dye Multi/Rover, Wordmark Grid Mini Raw Linen) [https://shop.lululemon.com/p/bags/Everywhere-Belt-Bag/\\_/prod8900747?cc=61415&amp;color=LU9BG2S\\_061415&amp;skuId=146403867&amp;sz=ONESIZE](https://shop.lululemon.com/p/bags/Everywhere-Belt-Bag/_/prod8900747?cc=61415&amp;color=LU9BG2S_061415&amp;skuId=146403867&amp;sz=ONESIZE)\n",
      "\n",
      "**UNDERWEAR:**\n",
      "\n",
      "UnderEase Super-High-Rise Shortie Underwear 2 Pack (Sheer Violet/Finch Yellow) [https://shop.lululemon.com/p/women-underwear/UnderEase-SHR-Shortie-2Pack/\\_/prod11250346?color=62063](https://shop.lululemon.com/p/women-underwear/UnderEase-SHR-Shortie-2Pack/_/prod11250346?color=62063)\n",
      "\n",
      "**RESTOCK:**\n",
      "\n",
      "Like a Cloud Bra B/C (Strawberry Milkshake) [https://shop.lululemon.com/p/women-sports-bras/Like-a-Cloud-Bra/](https://shop.lululemon.com/p/women-sports-bras/Like-a-Cloud-Bra/)\n",
      "\n",
      "\n",
      "\n",
      "Text sample 2:\n",
      "\n",
      "\n",
      "Hello fellow lulu addicts, I’m looking for to purchase some socks that would last for a while. Most of their socks are on sale right now so I would love some recommendations!\n",
      "\n",
      "\n",
      "\n",
      "Text sample 3:\n",
      "\n",
      "\n",
      "Hi guys, idk if this is the right place to ask but the store in my area is hiring seasonal educators and I'm thinking about applying. However, they really want people to be openly flexible throughout December. What is the typical expectation as far as working during the week of Christmas? I'm a student so I do have a flexible schedule, but my family lives six hours away and I had been planning to go see them (assuming it's possible during the pandemic). Is this going to disqualify me? :(\n",
      "\n",
      "\n",
      "\n",
      "Text sample 4:\n",
      "\n",
      "\n",
      "Hi all, as part of our most recent \"[State of the Sub](https://www.reddit.com/r/lululemon/comments/otbfc7/state_of_the_sub_rule_updates_and_other_changes/)\" thread, our daily Friday discussion thread is all about employment! \n",
      "\n",
      "This thread is the place to get answers to all your questions about the interview process, questions commonly asked during interviews, and what it's like to be an educator. \n",
      "\n",
      "It's also a space for all our wonderful educators to share any inside scoops, hiring tips and tricks, and anything and everything in between! \n",
      "\n",
      "Happy Friday everyone! :)\n",
      "\n",
      "\n",
      "\n",
      "Text sample 5:\n",
      "\n",
      "\n",
      "[deleted]\n",
      "\n",
      "[View Poll](https://www.reddit.com/poll/hnuux1)\n",
      "\n",
      "\n",
      "\n"
     ]
    }
   ],
   "source": [
    "# Check some sample posts\n",
    "\n",
    "get_text_samples(lulu_df,'text',5)"
   ]
  },
  {
   "cell_type": "markdown",
   "id": "6fc68383-8797-47dd-85e1-0f9ba67df222",
   "metadata": {},
   "source": [
    "## Basic Cleaning"
   ]
  },
  {
   "cell_type": "code",
   "execution_count": 21,
   "id": "4acb755b-2a3b-44b1-b30e-54e95886613f",
   "metadata": {
    "jupyter": {
     "source_hidden": true
    }
   },
   "outputs": [
    {
     "name": "stdout",
     "output_type": "stream",
     "text": [
      "We now have 60028 posts which span from 2012-02-24 19:27:03+00:00 to 2024-12-31 23:30:34+00:00\n"
     ]
    }
   ],
   "source": [
    "# Drop missing posts\n",
    "\n",
    "mask = (\n",
    "    lulu_df[\"text\"].notna()\n",
    "    & (lulu_df[\"text\"].str.strip() != \"\")\n",
    "    & (~lulu_df[\"text\"].str.lower().isin([\"[removed]\", \"[deleted]\"]))\n",
    ")\n",
    "\n",
    "lulu_df = lulu_df[mask].copy().reset_index(drop=True)\n",
    "\n",
    "earliest = lulu_df['timestamp'].min()\n",
    "latest = lulu_df['timestamp'].max()\n",
    "\n",
    "\n",
    "print(f\"We now have {len(lulu_df)} posts which span from {earliest} to {latest}\")"
   ]
  },
  {
   "cell_type": "code",
   "execution_count": 41,
   "id": "e486a594-e3ec-44db-bbf3-3ad55b1de6f1",
   "metadata": {
    "jupyter": {
     "source_hidden": true
    }
   },
   "outputs": [
    {
     "name": "stdout",
     "output_type": "stream",
     "text": [
      "There are still 60028 posts in the dataframe.\n"
     ]
    }
   ],
   "source": [
    "# Drop any fully duplicated rows\n",
    "\n",
    "lulu_df = lulu_df.drop_duplicates().reset_index(drop=True)\n",
    "\n",
    "print(f\"There are still {len(lulu_df)} posts in the dataframe.\")"
   ]
  },
  {
   "cell_type": "code",
   "execution_count": 32,
   "id": "4d917d51-3e57-4dae-aae2-80785e118c5c",
   "metadata": {
    "collapsed": true,
    "jupyter": {
     "outputs_hidden": true,
     "source_hidden": true
    }
   },
   "outputs": [
    {
     "data": {
      "image/png": "[encoded data removed]",
      "text/plain": [
       "<Figure size 800x500 with 1 Axes>"
      ]
     },
     "metadata": {},
     "output_type": "display_data"
    }
   ],
   "source": [
    "# Check histogram of time distribution\n",
    "\n",
    "histogram(lulu_df, 'timestamp')"
   ]
  },
  {
   "cell_type": "markdown",
   "id": "6dda3afd-320a-40c1-8e43-69488a1f4f81",
   "metadata": {},
   "source": [
    "Since most older posts are missing or deleted, we restrict to the 2020s."
   ]
  },
  {
   "cell_type": "code",
   "execution_count": 42,
   "id": "9bccc922-e69b-4040-9278-1bc9d28ae173",
   "metadata": {
    "jupyter": {
     "source_hidden": true
    }
   },
   "outputs": [],
   "source": [
    "# Restrict to posts from 2020 onward\n",
    "\n",
    "lulu_df = lulu_df[lulu_df[\"timestamp\"].dt.year >= 2020].reset_index(drop=True)"
   ]
  },
  {
   "cell_type": "code",
   "execution_count": 43,
   "id": "ceb1175c-7ab4-4582-b793-df6ffc37ab39",
   "metadata": {
    "collapsed": true,
    "jupyter": {
     "outputs_hidden": true,
     "source_hidden": true
    },
    "scrolled": true
   },
   "outputs": [
    {
     "data": {
      "image/png": "[encoded data removed]",
      "text/plain": [
       "<Figure size 800x500 with 1 Axes>"
      ]
     },
     "metadata": {},
     "output_type": "display_data"
    }
   ],
   "source": [
    "# Check histogram of time distribution\n",
    "\n",
    "histogram(lulu_df, 'timestamp')"
   ]
  },
  {
   "cell_type": "code",
   "execution_count": 44,
   "id": "506ea0d7-3209-4c12-ab5c-345b0ec9c765",
   "metadata": {
    "collapsed": true,
    "jupyter": {
     "outputs_hidden": true,
     "source_hidden": true
    },
    "scrolled": true
   },
   "outputs": [
    {
     "name": "stdout",
     "output_type": "stream",
     "text": [
      "\n",
      "\n",
      "Number of records in the lulu dataframe is: 57984\n",
      "\n",
      "\n",
      "Number of features in the lulu dataframe is: 9\n",
      "\n",
      "The columns in the lulu dataframe are: Index(['post_id', 'timestamp', 'author', 'title', 'text', 'score',\n",
      "       'num_comments', 'permalink', 'subreddit'],\n",
      "      dtype='object')\n",
      "\n",
      "\n",
      " Other info about lulu dataframe:\n",
      "\n",
      "<class 'pandas.core.frame.DataFrame'>\n",
      "RangeIndex: 57984 entries, 0 to 57983\n",
      "Data columns (total 9 columns):\n",
      " #   Column        Non-Null Count  Dtype              \n",
      "---  ------        --------------  -----              \n",
      " 0   post_id       57984 non-null  object             \n",
      " 1   timestamp     57984 non-null  datetime64[ns, UTC]\n",
      " 2   author        57984 non-null  object             \n",
      " 3   title         57984 non-null  object             \n",
      " 4   text          57984 non-null  object             \n",
      " 5   score         57984 non-null  int64              \n",
      " 6   num_comments  57984 non-null  int64              \n",
      " 7   permalink     57984 non-null  object             \n",
      " 8   subreddit     57984 non-null  object             \n",
      "dtypes: datetime64[ns, UTC](1), int64(2), object(6)\n",
      "memory usage: 4.0+ MB\n"
     ]
    },
    {
     "data": {
      "text/plain": [
       "None"
      ]
     },
     "metadata": {},
     "output_type": "display_data"
    },
    {
     "name": "stdout",
     "output_type": "stream",
     "text": [
      "\n",
      " Basic statistical info about lulu dataframe:\n",
      "\n"
     ]
    },
    {
     "data": {
      "text/html": [
       "<div>\n",
       "<style scoped>\n",
       "    .dataframe tbody tr th:only-of-type {\n",
       "        vertical-align: middle;\n",
       "    }\n",
       "\n",
       "    .dataframe tbody tr th {\n",
       "        vertical-align: top;\n",
       "    }\n",
       "\n",
       "    .dataframe thead th {\n",
       "        text-align: right;\n",
       "    }\n",
       "</style>\n",
       "<table border=\"1\" class=\"dataframe\">\n",
       "  <thead>\n",
       "    <tr style=\"text-align: right;\">\n",
       "      <th></th>\n",
       "      <th>score</th>\n",
       "      <th>num_comments</th>\n",
       "    </tr>\n",
       "  </thead>\n",
       "  <tbody>\n",
       "    <tr>\n",
       "      <th>count</th>\n",
       "      <td>57984.000000</td>\n",
       "      <td>57984.000000</td>\n",
       "    </tr>\n",
       "    <tr>\n",
       "      <th>mean</th>\n",
       "      <td>23.446071</td>\n",
       "      <td>14.705126</td>\n",
       "    </tr>\n",
       "    <tr>\n",
       "      <th>std</th>\n",
       "      <td>87.240166</td>\n",
       "      <td>40.279924</td>\n",
       "    </tr>\n",
       "    <tr>\n",
       "      <th>min</th>\n",
       "      <td>0.000000</td>\n",
       "      <td>0.000000</td>\n",
       "    </tr>\n",
       "    <tr>\n",
       "      <th>25%</th>\n",
       "      <td>1.000000</td>\n",
       "      <td>2.000000</td>\n",
       "    </tr>\n",
       "    <tr>\n",
       "      <th>50%</th>\n",
       "      <td>3.000000</td>\n",
       "      <td>6.000000</td>\n",
       "    </tr>\n",
       "    <tr>\n",
       "      <th>75%</th>\n",
       "      <td>13.000000</td>\n",
       "      <td>13.000000</td>\n",
       "    </tr>\n",
       "    <tr>\n",
       "      <th>max</th>\n",
       "      <td>11864.000000</td>\n",
       "      <td>1987.000000</td>\n",
       "    </tr>\n",
       "  </tbody>\n",
       "</table>\n",
       "</div>"
      ],
      "text/plain": [
       "              score  num_comments\n",
       "count  57984.000000  57984.000000\n",
       "mean      23.446071     14.705126\n",
       "std       87.240166     40.279924\n",
       "min        0.000000      0.000000\n",
       "25%        1.000000      2.000000\n",
       "50%        3.000000      6.000000\n",
       "75%       13.000000     13.000000\n",
       "max    11864.000000   1987.000000"
      ]
     },
     "metadata": {},
     "output_type": "display_data"
    },
    {
     "name": "stdout",
     "output_type": "stream",
     "text": [
      "\n",
      "\n",
      "Sample of records in the lulu dataframe:\n"
     ]
    },
    {
     "data": {
      "text/html": [
       "<div>\n",
       "<style scoped>\n",
       "    .dataframe tbody tr th:only-of-type {\n",
       "        vertical-align: middle;\n",
       "    }\n",
       "\n",
       "    .dataframe tbody tr th {\n",
       "        vertical-align: top;\n",
       "    }\n",
       "\n",
       "    .dataframe thead th {\n",
       "        text-align: right;\n",
       "    }\n",
       "</style>\n",
       "<table border=\"1\" class=\"dataframe\">\n",
       "  <thead>\n",
       "    <tr style=\"text-align: right;\">\n",
       "      <th></th>\n",
       "      <th>post_id</th>\n",
       "      <th>timestamp</th>\n",
       "      <th>author</th>\n",
       "      <th>title</th>\n",
       "      <th>text</th>\n",
       "      <th>score</th>\n",
       "      <th>num_comments</th>\n",
       "      <th>permalink</th>\n",
       "      <th>subreddit</th>\n",
       "    </tr>\n",
       "  </thead>\n",
       "  <tbody>\n",
       "    <tr>\n",
       "      <th>0</th>\n",
       "      <td>eielly</td>\n",
       "      <td>2020-01-01 05:33:25+00:00</td>\n",
       "      <td>[deleted]</td>\n",
       "      <td>Monthly Sales Post- January</td>\n",
       "      <td>FS: Aligns sz 4</td>\n",
       "      <td>1</td>\n",
       "      <td>7</td>\n",
       "      <td>/r/lululemon/comments/eielly/monthly_sales_post_january/</td>\n",
       "      <td>lululemon</td>\n",
       "    </tr>\n",
       "    <tr>\n",
       "      <th>1</th>\n",
       "      <td>eii06s</td>\n",
       "      <td>2020-01-01 12:46:35+00:00</td>\n",
       "      <td>mimsiila</td>\n",
       "      <td>Major problem falling down leggings?</td>\n",
       "      <td>Hello, over the last year I have been ordering lululemon stuff online as there is no store nearby. I have been trying different sizes and overall I feel their leggings are pretty bad at holding up. Especially wunder under and all the right places. I have wu in luon which is fine, and aligns are ok, new in movement seem to be ok. But align and luon get pilling issues, in movement fabric gets dust/feather sticking to it after 2 wears. In the same the luxtreme fabric in wunder under.. impossible. I don't feel i will get in the smaller size, as my thighs are huge (smaller waist).  Meanwhile I tried leggings from other brands... Eg Alo yoga, very similar model (extreme high waist airlift vs super high waist wu ) and the others are performing great. In alo i have leggings in s,m and l size,none is falling. I think i am getting really disappointed. It's very addictive to shop from lululemon and they look great in the mirror, but at the same time I cannot see the worth in comfort and performance during practice (yoga, both classical and more powerful,fitness) . Am I doing something wrong? I am afraid to invest even more $$, to try more models and risk having the same flows... I am also considering redesigning WU, adding a stich or elastic band to their waist..anyone having experience with that?</td>\n",
       "      <td>0</td>\n",
       "      <td>6</td>\n",
       "      <td>/r/lululemon/comments/eii06s/major_problem_falling_down_leggings/</td>\n",
       "      <td>lululemon</td>\n",
       "    </tr>\n",
       "    <tr>\n",
       "      <th>2</th>\n",
       "      <td>eijtca</td>\n",
       "      <td>2020-01-01 16:00:56+00:00</td>\n",
       "      <td>brnewmeg</td>\n",
       "      <td>Tops for yoga</td>\n",
       "      <td>I have a couple swiftly tech racerbacks for hot yoga and just ordered a swiftly breeze tank because I’m wanting something with a bit more coverage (higher neckline). I find I’m adjusting my racerbacks more than I’d like in yoga but will keep wearing for hot yoga since they wick sweat so well. \\n\\nWhat are everyone’s favorite tops/tanks to wear for yoga? I’m a 34D so I worry about having enough coverage and not falling out of bras and tops. I have the free to be serene bra but I don’t like wearing it for yoga for this reason. Would love to find a great top (preferably a tank) that I don’t need to adjust or worry about with all the forward folds and down dogs. I knew lulu makes high neck bras but I don’t like the idea of something tight across my collarbone.</td>\n",
       "      <td>3</td>\n",
       "      <td>4</td>\n",
       "      <td>/r/lululemon/comments/eijtca/tops_for_yoga/</td>\n",
       "      <td>lululemon</td>\n",
       "    </tr>\n",
       "    <tr>\n",
       "      <th>3</th>\n",
       "      <td>eikiew</td>\n",
       "      <td>2020-01-01 16:59:27+00:00</td>\n",
       "      <td>vincent_n</td>\n",
       "      <td>ABC Pants - Sizing</td>\n",
       "      <td>Hey all,\\n\\nI recently received ABC pants (size 32) from the store, and they fit well. However, I’ve heard from multiple friends that they lose their shape and stretch out/can become baggy after a couple of weeks-months of wear. Should I go back to the store and try a size 31 in anticipation of this? \\n\\nIf not, will lululemon replace these pants should they lose their shape? \\n\\nThanks!</td>\n",
       "      <td>1</td>\n",
       "      <td>6</td>\n",
       "      <td>/r/lululemon/comments/eikiew/abc_pants_sizing/</td>\n",
       "      <td>lululemon</td>\n",
       "    </tr>\n",
       "    <tr>\n",
       "      <th>4</th>\n",
       "      <td>eil4bb</td>\n",
       "      <td>2020-01-01 17:46:20+00:00</td>\n",
       "      <td>vxtoriac</td>\n",
       "      <td>Certain Aligns colours with thicker fabric?</td>\n",
       "      <td>Hi lemonheads :D\\n\\nI was wondering if anyone has bought a pair of aligns that seems to be made from a thicker fabric than the usual Nulu. I think I saw a post a while ago where a few people thought their aligns were thicker, they were all dark red colour but I don't remember the exact name (not Garnet!)\\n\\nI recently purchased a pair of full length Aligns off Poshmark in the colour Graphite, but they also seem to be thicker, almost luon. I thought maybe they were WUs, but don't believe WUs come in that colour? I've attached a photo of the size dot (it looks real to me?), though I'm not sure how to read it or where I would check. Any advice or thoughts would be great! \\n\\nhttps://preview.redd.it/8zq5q04lf7841.jpg?width=3024&amp;amp;format=pjpg&amp;amp;auto=webp&amp;amp;s=acaa777817edaeacc94b1effefd42b6f3d4f8c18</td>\n",
       "      <td>3</td>\n",
       "      <td>11</td>\n",
       "      <td>/r/lululemon/comments/eil4bb/certain_aligns_colours_with_thicker_fabric/</td>\n",
       "      <td>lululemon</td>\n",
       "    </tr>\n",
       "  </tbody>\n",
       "</table>\n",
       "</div>"
      ],
      "text/plain": [
       "  post_id                 timestamp     author  \\\n",
       "0  eielly 2020-01-01 05:33:25+00:00  [deleted]   \n",
       "1  eii06s 2020-01-01 12:46:35+00:00   mimsiila   \n",
       "2  eijtca 2020-01-01 16:00:56+00:00   brnewmeg   \n",
       "3  eikiew 2020-01-01 16:59:27+00:00  vincent_n   \n",
       "4  eil4bb 2020-01-01 17:46:20+00:00   vxtoriac   \n",
       "\n",
       "                                         title  \\\n",
       "0                  Monthly Sales Post- January   \n",
       "1         Major problem falling down leggings?   \n",
       "2                                Tops for yoga   \n",
       "3                           ABC Pants - Sizing   \n",
       "4  Certain Aligns colours with thicker fabric?   \n",
       "\n",
       "                                                                                                                                                                                                                                                                                                                                                                                                                                                                                                                                                                                                                                                                                                                                                                                                                                                                                                                                                                                                                                                                                                                                                                                                                                                                                                                                                          text  \\\n",
       "0                                                                                                                                                                                                                                                                                                                                                                                                                                                                                                                                                                                                                                                                                                                                                                                                                                                                                                                                                                                                                                                                                                                                                                                                                                                                                                                                              FS: Aligns sz 4   \n",
       "1  Hello, over the last year I have been ordering lululemon stuff online as there is no store nearby. I have been trying different sizes and overall I feel their leggings are pretty bad at holding up. Especially wunder under and all the right places. I have wu in luon which is fine, and aligns are ok, new in movement seem to be ok. But align and luon get pilling issues, in movement fabric gets dust/feather sticking to it after 2 wears. In the same the luxtreme fabric in wunder under.. impossible. I don't feel i will get in the smaller size, as my thighs are huge (smaller waist).  Meanwhile I tried leggings from other brands... Eg Alo yoga, very similar model (extreme high waist airlift vs super high waist wu ) and the others are performing great. In alo i have leggings in s,m and l size,none is falling. I think i am getting really disappointed. It's very addictive to shop from lululemon and they look great in the mirror, but at the same time I cannot see the worth in comfort and performance during practice (yoga, both classical and more powerful,fitness) . Am I doing something wrong? I am afraid to invest even more $$, to try more models and risk having the same flows... I am also considering redesigning WU, adding a stich or elastic band to their waist..anyone having experience with that?   \n",
       "2                                                                                                                                                                                                                                                                                                                                                                                                                                                                                                                                                               I have a couple swiftly tech racerbacks for hot yoga and just ordered a swiftly breeze tank because I’m wanting something with a bit more coverage (higher neckline). I find I’m adjusting my racerbacks more than I’d like in yoga but will keep wearing for hot yoga since they wick sweat so well. \\n\\nWhat are everyone’s favorite tops/tanks to wear for yoga? I’m a 34D so I worry about having enough coverage and not falling out of bras and tops. I have the free to be serene bra but I don’t like wearing it for yoga for this reason. Would love to find a great top (preferably a tank) that I don’t need to adjust or worry about with all the forward folds and down dogs. I knew lulu makes high neck bras but I don’t like the idea of something tight across my collarbone.   \n",
       "3                                                                                                                                                                                                                                                                                                                                                                                                                                                                                                                                                                                                                                                                                                                                                                                                                                                                                                                                                       Hey all,\\n\\nI recently received ABC pants (size 32) from the store, and they fit well. However, I’ve heard from multiple friends that they lose their shape and stretch out/can become baggy after a couple of weeks-months of wear. Should I go back to the store and try a size 31 in anticipation of this? \\n\\nIf not, will lululemon replace these pants should they lose their shape? \\n\\nThanks!   \n",
       "4                                                                                                                                                                                                                                                                                                                                                                                                                                                                                                                   Hi lemonheads :D\\n\\nI was wondering if anyone has bought a pair of aligns that seems to be made from a thicker fabric than the usual Nulu. I think I saw a post a while ago where a few people thought their aligns were thicker, they were all dark red colour but I don't remember the exact name (not Garnet!)\\n\\nI recently purchased a pair of full length Aligns off Poshmark in the colour Graphite, but they also seem to be thicker, almost luon. I thought maybe they were WUs, but don't believe WUs come in that colour? I've attached a photo of the size dot (it looks real to me?), though I'm not sure how to read it or where I would check. Any advice or thoughts would be great! \\n\\nhttps://preview.redd.it/8zq5q04lf7841.jpg?width=3024&amp;format=pjpg&amp;auto=webp&amp;s=acaa777817edaeacc94b1effefd42b6f3d4f8c18   \n",
       "\n",
       "   score  num_comments  \\\n",
       "0      1             7   \n",
       "1      0             6   \n",
       "2      3             4   \n",
       "3      1             6   \n",
       "4      3            11   \n",
       "\n",
       "                                                                  permalink  \\\n",
       "0                  /r/lululemon/comments/eielly/monthly_sales_post_january/   \n",
       "1         /r/lululemon/comments/eii06s/major_problem_falling_down_leggings/   \n",
       "2                               /r/lululemon/comments/eijtca/tops_for_yoga/   \n",
       "3                            /r/lululemon/comments/eikiew/abc_pants_sizing/   \n",
       "4  /r/lululemon/comments/eil4bb/certain_aligns_colours_with_thicker_fabric/   \n",
       "\n",
       "   subreddit  \n",
       "0  lululemon  \n",
       "1  lululemon  \n",
       "2  lululemon  \n",
       "3  lululemon  \n",
       "4  lululemon  "
      ]
     },
     "metadata": {},
     "output_type": "display_data"
    }
   ],
   "source": [
    "# Examine dataframe of posts 2020 and on\n",
    "\n",
    "examine_df('lulu dataframe', lulu_df)"
   ]
  },
  {
   "cell_type": "code",
   "execution_count": 45,
   "id": "2ed8caae-122e-42f7-95a4-91a54235e394",
   "metadata": {
    "jupyter": {
     "source_hidden": true
    }
   },
   "outputs": [],
   "source": [
    "# Drop irrelevant columns\n",
    "\n",
    "irr_cols = ['author', 'permalink', 'subreddit']\n",
    "\n",
    "lulu_df.drop(columns = irr_cols, inplace = True)"
   ]
  },
  {
   "cell_type": "code",
   "execution_count": 47,
   "id": "9d49d68f-27fa-4c42-8a08-7a8ee8c249d8",
   "metadata": {
    "jupyter": {
     "source_hidden": true
    }
   },
   "outputs": [],
   "source": [
    "# Save clean data to Parquet file\n",
    "\n",
    "lulu_df.to_parquet(\"lululemon_submissions_clean.parquet\", index=False)"
   ]
  }
 ],
 "metadata": {
  "kernelspec": {
   "display_name": "Python 3 (ipykernel)",
   "language": "python",
   "name": "python3"
  },
  "language_info": {
   "codemirror_mode": {
    "name": "ipython",
    "version": 3
   },
   "file_extension": ".py",
   "mimetype": "text/x-python",
   "name": "python",
   "nbconvert_exporter": "python",
   "pygments_lexer": "ipython3",
   "version": "3.12.10"
  }
 },
 "nbformat": 4,
 "nbformat_minor": 5
}
